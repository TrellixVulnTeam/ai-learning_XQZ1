{
 "cells": [
  {
   "cell_type": "code",
   "execution_count": 5,
   "metadata": {},
   "outputs": [],
   "source": [
    "import java.util.concurrent.locks.Condition;\n",
    "import java.util.concurrent.locks.ReentrantLock;\n",
    "import java.lang.IllegalArgumentException;\n",
    "\n",
    "public class ArrayBlockingQueue<E>{\n",
    "    final Object[] items;\n",
    "    private int takeIndex;\n",
    "    private int putIndex;\n",
    "    private int count;\n",
    "    private ReentrantLock lock;\n",
    "    private Condition notEmpty;\n",
    "    private Condition notFull;\n",
    "    \n",
    "    public ArrayBlockingQueue(int capacity,boolean fair){\n",
    "        if (capacity<=0)\n",
    "            throw new IllegalArgumentException();\n",
    "        this.items=new Object[capacity];\n",
    "        this.lock=new ReentrantLock(fair);\n",
    "        this.notEmpty=this.lock.newCondition();\n",
    "        this.notFull=this.lock.newCondition();\n",
    "    }\n",
    "    \n",
    "    public void put(E e) throws InterruptedException {\n",
    "        Objects.requireNonNull(e);\n",
    "        final ReentrantLock lock = this.lock;\n",
    "        lock.lockInterruptibly();\n",
    "        try {\n",
    "            while (count == items.length)\n",
    "                notFull.await();\n",
    "            enqueue(e);\n",
    "        } finally {\n",
    "            lock.unlock();\n",
    "        }\n",
    "    }\n",
    "    \n",
    "    private void enqueue(E e) {\n",
    "        final Object[] items = this.items;\n",
    "        items[putIndex] = e;\n",
    "        if (++putIndex == items.length) putIndex = 0;\n",
    "        count++;\n",
    "        notEmpty.signal();\n",
    "    }\n",
    "    \n",
    "    private E dequeue() {\n",
    "        final Object[] items = this.items;\n",
    "        E e = (E) items[takeIndex];\n",
    "        items[takeIndex] = null;\n",
    "        if (++takeIndex == items.length) takeIndex = 0;\n",
    "        count--;\n",
    "        notFull.signal();\n",
    "        return e;\n",
    "    }\n",
    "    \n",
    "    public E take() throws InterruptedException {\n",
    "        final ReentrantLock lock = this.lock;\n",
    "        lock.lockInterruptibly();\n",
    "        try {\n",
    "            while (count == 0)\n",
    "                notEmpty.await();\n",
    "            return dequeue();\n",
    "        } finally {\n",
    "            lock.unlock();\n",
    "        }\n",
    "    }\n",
    "}"
   ]
  },
  {
   "cell_type": "code",
   "execution_count": 22,
   "metadata": {},
   "outputs": [],
   "source": [
    "public int climbStair(int n){\n",
    "    if (n<1)\n",
    "        throw new IllegalArgumentException();\n",
    "   \n",
    "    if (n<3) return n;\n",
    "    int cur=0,pre1=1,pre2=2;\n",
    "    \n",
    "    for (int i=2;i<n;i++){\n",
    "        cur=pre1+pre2;\n",
    "        pre1=pre2;\n",
    "        pre2=cur;\n",
    "    }\n",
    "    return cur;\n",
    "}"
   ]
  },
  {
   "cell_type": "code",
   "execution_count": 23,
   "metadata": {},
   "outputs": [
    {
     "data": {
      "text/plain": [
       "89"
      ]
     },
     "execution_count": 23,
     "metadata": {},
     "output_type": "execute_result"
    }
   ],
   "source": [
    "climbStair(10)"
   ]
  }
 ],
 "metadata": {
  "kernelspec": {
   "display_name": "Java",
   "language": "java",
   "name": "java"
  },
  "language_info": {
   "codemirror_mode": "java",
   "file_extension": ".jshell",
   "mimetype": "text/x-java-source",
   "name": "Java",
   "pygments_lexer": "java",
   "version": "11.0.7+10"
  }
 },
 "nbformat": 4,
 "nbformat_minor": 4
}
